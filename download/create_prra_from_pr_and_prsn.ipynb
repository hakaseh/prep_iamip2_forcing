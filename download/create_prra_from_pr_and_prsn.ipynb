{
 "cells": [
  {
   "cell_type": "markdown",
   "metadata": {},
   "source": [
    "### 20210303: this script calculates prra from pr and prsn, and outputs both prra and prsn in a single file on the native grid."
   ]
  },
  {
   "cell_type": "code",
   "execution_count": 3,
   "metadata": {},
   "outputs": [],
   "source": [
    "import xarray as xr"
   ]
  },
  {
   "cell_type": "code",
   "execution_count": 4,
   "metadata": {},
   "outputs": [],
   "source": [
    "for yr in range(2100,2101):\n",
    "    ds_pr = xr.open_dataset('~/data/members/CMIP6/ScenarioMIP/EC-Earth-Consortium/EC-Earth3/ssp585/r1i1p1f1/3hr/pr/gr/v20200310/pr_3hr_EC-Earth3_ssp585_r1i1p1f1_gr_'+str(yr)+'01010130-'+str(yr)+'12312230.nc')\n",
    "    ds_prsn = xr.open_dataset('~/data/projects/icebgc/prep_iamip2_forcing/download/prsn/prsn_3hr_EC-Earth3_ssp585_r1i1p1f1_gr_'+str(yr)+'01010130-'+str(yr)+'12312230.nc')\n",
    "    ds_prsn['prra'] = ds_pr.pr - ds_prsn.prsn\n",
    "    ds_prsn.to_netcdf('prra_and_prsn/prra_and_prsn_3hr_EC-Earth3_ssp585_r1i1p1f1_gr_'+str(yr)+'.nc')\n",
    "    "
   ]
  },
  {
   "cell_type": "code",
   "execution_count": null,
   "metadata": {},
   "outputs": [],
   "source": []
  }
 ],
 "metadata": {
  "kernelspec": {
   "display_name": "Python [conda env:analysis3-20.10] *",
   "language": "python",
   "name": "conda-env-analysis3-20.10-py"
  },
  "language_info": {
   "codemirror_mode": {
    "name": "ipython",
    "version": 3
   },
   "file_extension": ".py",
   "mimetype": "text/x-python",
   "name": "python",
   "nbconvert_exporter": "python",
   "pygments_lexer": "ipython3",
   "version": "3.8.6"
  }
 },
 "nbformat": 4,
 "nbformat_minor": 4
}
